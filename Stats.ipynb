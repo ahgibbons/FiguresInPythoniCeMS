{
 "cells": [
  {
   "cell_type": "code",
   "execution_count": 1,
   "metadata": {},
   "outputs": [],
   "source": [
    "# Python comments begin with '#'\n",
    "\n",
    "import matplotlib.pyplot as plt   # Plotting library, renamed to 'plt'\n",
    "import numpy as np                # Numeric and array library, renamed to 'np'\n",
    "import pandas as pd               # Data loading and handling library, renamed to 'pd'\n",
    "import seaborn as sns             # Fancy plotting libary, renamed to 'sns'"
   ]
  },
  {
   "cell_type": "code",
   "execution_count": 63,
   "metadata": {},
   "outputs": [],
   "source": [
    "sums = []\n",
    "means = []"
   ]
  },
  {
   "cell_type": "code",
   "execution_count": 104,
   "metadata": {},
   "outputs": [
    {
     "data": {
      "image/png": "[encoded data removed]",
      "text/plain": [
       "<Figure size 432x288 with 1 Axes>"
      ]
     },
     "metadata": {
      "needs_background": "light"
     },
     "output_type": "display_data"
    }
   ],
   "source": [
    "sums = []\n",
    "means = []\n",
    "prods = []\n",
    "\n",
    "\n",
    "for n in range(100):\n",
    "    uniform = np.random.rand(10)*10\n",
    "    means.append(uniform.mean())\n",
    "    sums.append(uniform.sum())\n",
    "\n",
    "fig, ax = plt.subplots()\n",
    "sns.histplot(data=means, ax=ax)\n",
    "\n",
    "\n",
    "plt.tight_layout()"
   ]
  },
  {
   "cell_type": "code",
   "execution_count": null,
   "metadata": {},
   "outputs": [],
   "source": [
    "\n"
   ]
  },
  {
   "cell_type": "code",
   "execution_count": null,
   "metadata": {},
   "outputs": [],
   "source": []
  }
 ],
 "metadata": {
  "kernelspec": {
   "display_name": "Python 3",
   "language": "python",
   "name": "python3"
  },
  "language_info": {
   "codemirror_mode": {
    "name": "ipython",
    "version": 3
   },
   "file_extension": ".py",
   "mimetype": "text/x-python",
   "name": "python",
   "nbconvert_exporter": "python",
   "pygments_lexer": "ipython3",
   "version": "3.7.4"
  }
 },
 "nbformat": 4,
 "nbformat_minor": 4
}
